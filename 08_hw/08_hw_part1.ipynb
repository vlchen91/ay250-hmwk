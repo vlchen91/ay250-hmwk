{
 "metadata": {
  "name": "08_hw_part1"
 },
 "nbformat": 3,
 "nbformat_minor": 0,
 "worksheets": [
  {
   "cells": [
    {
     "cell_type": "code",
     "collapsed": false,
     "input": [
      "from random import uniform\n",
      "from math import sqrt\n",
      "from time import time"
     ],
     "language": "python",
     "metadata": {},
     "outputs": []
    },
    {
     "cell_type": "heading",
     "level": 3,
     "metadata": {},
     "source": [
      "Original dart-throwing simulation implementation"
     ]
    },
    {
     "cell_type": "code",
     "collapsed": false,
     "input": [
      "def test_serial_dart_throwing(nd=200000):\n",
      "    \"\"\" 'nd' is the number of darts. \"\"\"\n",
      "    # Define the total number of darts we'll throw.\n",
      "    number_of_darts = nd\n",
      "    # Define a variable to store the number of darts that fall inside the circle.\n",
      "    number_of_darts_in_circle = 0\n",
      "    \n",
      "    # We will use time() to record the execution time of a loop that runs the\n",
      "    # dart throwing simulation.\n",
      "    start_time = time()\n",
      "    \n",
      "    # This loop simulates the dart throwing. For each dart, find a random position\n",
      "    # in the unit sqare for it to fall. Test if it falls within the circle by\n",
      "    # calculating the dstaince from the origin (0.5,0.5) to the dart. Darts that\n",
      "    # fall within 0.5 of the origin are within the circle.\n",
      "    for n in range(number_of_darts):\n",
      "        x, y = uniform(0,1), uniform(0,1)\n",
      "        if sqrt((x - 0.5) ** 2 + (y - 0.5) ** 2) <= 0.5:\n",
      "            number_of_darts_in_circle += 1\n",
      "    \n",
      "    # Record the time after the conclusion of the loop.\n",
      "    end_time = time()\n",
      "    # The total time required to run the loop is the difference.\n",
      "    execution_time = end_time - start_time\n",
      "    \n",
      "    # We can calculate an approximate numerical value for pi using the formula for\n",
      "    # the area of a circle (which defines pi). A = pi * r ** 2. Here, r = 0.5, and the\n",
      "    # area of the circle can be approximated by the ratio of the number of darts\n",
      "    # that fall inside the circle over the total number of darts thrown. Thus we\n",
      "    # have pi = 4 * Area.\n",
      "    pi_approx = 4 * number_of_darts_in_circle / float(number_of_darts)\n",
      "    \n",
      "    # Print out summary info about the run. Execution time should increase\n",
      "    # with increasing number of darts. Darts thrown per second should stay\n",
      "    # relatively constant and is sort of a measure of the speed of the processor\n",
      "    # (although it is highly dependent on the efficiencies of the various involved\n",
      "    # operators and functions).\n",
      "    print \"Serial Dart Throwing Simulation\"\n",
      "    print \"Pi Approximation:\", pi_approx\n",
      "    print \"Number of Darts:\", number_of_darts\n",
      "    print \"Execution Time (s):\", execution_time\n",
      "    print \"Darts Thrown per Second:\", number_of_darts / execution_time\n",
      "    "
     ],
     "language": "python",
     "metadata": {},
     "outputs": []
    },
    {
     "cell_type": "heading",
     "level": 3,
     "metadata": {},
     "source": [
      "Implementation 1: multiprocessing.Process module"
     ]
    },
    {
     "cell_type": "code",
     "collapsed": false,
     "input": [
      "from multiprocessing import Process, Queue\n",
      "import numpy as np"
     ],
     "language": "python",
     "metadata": {},
     "outputs": []
    },
    {
     "cell_type": "code",
     "collapsed": false,
     "input": [
      "def dart_thrower(tests, nprocs):\n",
      "    ''' Give \"dart_thrower\" a dummy list of darts (e.g. to throw 200,000 darts,\n",
      "    \tinput range(200000) ). \"nprocs\" is the number of processors.\n",
      "        \n",
      "\t\tReturns the total darts thrown inside the circle.\n",
      "\t'''\n",
      "\t\n",
      "    def worker(test):\n",
      "        \"\"\" The worker function, invoked in a process. 'test' is a\n",
      "            list of dummy values.\n",
      "        \"\"\"\n",
      "        num_in_circle = 0\n",
      "        for j in test:\n",
      "            num_in_circle += throw_dart()\n",
      "        \n",
      "        out_q.put(num_in_circle)\n",
      "        \n",
      "    def throw_dart():\n",
      "        ''' Throw a dart. Find a random position in the unit square for it\n",
      "            to fall. Test if it falls within the circle by calculating the\n",
      "            distance from the origin (0.5,0.5) to the dart. Darts that\n",
      "            fall within 0.5 of the origin are within the circle.\n",
      "            \n",
      "            Returns 1 if dart is inside circle, else returns 0 '''\n",
      "        x, y = uniform(0, 1), uniform(0, 1)\n",
      "        return int(sqrt((x - 0.5)**2 + (y - 0.5)**2) \\\n",
      "            <= 0.5)\n",
      "        \n",
      "    # Each process will get 'chunksize' tests and output results into\n",
      "    # the 'out_q' Queue (to handle asynchronous results)\n",
      "    out_q = Queue()\n",
      "    chunksize = int(math.ceil(len(tests) / float(nprocs)))\n",
      "    procs = []\n",
      "    \n",
      "    # Avoid the GIL by running (4) processes pseudo-simultaneously\n",
      "    # (because of the for-loop initiating p.start() nprocs times).\n",
      "    for i in range(nprocs):\n",
      "        p = Process( target=worker,\n",
      "                \t args=(tests[chunksize*i : chunksize * (i + 1)],) )\n",
      "        procs.append(p)\n",
      "        p.start()\n",
      "    \n",
      "    # Add up all the darts that landed in the circle.\n",
      "    total_num_in_circle = 0\n",
      "    for i in range(nprocs):\n",
      "        total_num_in_circle += out_q.get()\n",
      "    \n",
      "    # Wait for all worker processes to finish\n",
      "    for p in procs:\n",
      "        p.join()\n",
      "    \n",
      "    return total_num_in_circle"
     ],
     "language": "python",
     "metadata": {},
     "outputs": []
    },
    {
     "cell_type": "code",
     "collapsed": false,
     "input": [
      "def test_multiprocessing_dart_throwing(nd=200000, nprocs=4):\n",
      "    \"\"\" 'nd' is the number of darts. 'nprocs' is the num processors \"\"\"\n",
      "\n",
      "    number_of_darts = nd\n",
      "    number_of_darts_in_circle = -1 # dummy value\n",
      "    # How many processors do we want to divide the work up for?\n",
      "    num_processors = nprocs\n",
      "    \n",
      "    # Record the simulation time.\n",
      "    start_time = time()\n",
      "    # For the multiprocessing module to work, we need an iterable of size\n",
      "    # 'number_of_darts'\n",
      "    darts = range(nd)\n",
      "    number_of_darts_in_circle = dart_thrower(darts, num_processors)\n",
      "    end_time = time()\n",
      "    execution_time = end_time - start_time\n",
      "    \n",
      "    pi_approx = 4 * dart_thrower(darts, num_processors) / float(number_of_darts)\n",
      "    \n",
      "    print \"Multiprocessing module Dart Throwing Simulation\"\n",
      "    print \"Pi Approximation:\", pi_approx\n",
      "    print \"Number of Darts:\", number_of_darts\n",
      "    print \"Execution Time (s):\", execution_time\n",
      "    print \"Darts Thrown per Second:\", number_of_darts / execution_time"
     ],
     "language": "python",
     "metadata": {},
     "outputs": []
    },
    {
     "cell_type": "heading",
     "level": 3,
     "metadata": {},
     "source": [
      "Implementation 2: IPython cluster method"
     ]
    },
    {
     "cell_type": "code",
     "collapsed": false,
     "input": [
      "from IPython.parallel import Client\n",
      "rc = Client()\n",
      "dview = rc.direct_view()\n",
      "dview.block = False\n",
      "# Make sure ipcluster is running\n",
      "## ipcluster start --n=4\n",
      "## ...\n",
      "## ipcluster stop"
     ],
     "language": "python",
     "metadata": {},
     "outputs": []
    },
    {
     "cell_type": "code",
     "collapsed": false,
     "input": [
      "def test_ipcluster_dart_throwing(nd=200000):\n",
      "    \"\"\" 'nd' is the number of darts. \"\"\"\n",
      "    \n",
      "    dview.execute(\"from random import uniform\")\n",
      "    dview.execute('from math import sqrt')\n",
      "    # dview doesn't share global namespace, \n",
      "    # so we must define 'helper' inside\n",
      "    dview.execute(\"\"\"def helper(q):\n",
      "                         num = 0\n",
      "                         for i in range(q.shape[0]):\n",
      "                             x, y = uniform(0, 1), uniform(0, 1)\n",
      "                             num += int(sqrt((x - 0.5)**2 + (y - 0.5)**2) \\\n",
      "                                 <= 0.5)\n",
      "                         return num\"\"\")\n",
      "    \n",
      "    # Record the simulation time.\n",
      "    start_time = time()\n",
      "    \n",
      "    # For the IPython.parallel.Client to work, we need an iterable of size\n",
      "    # 'number_of_darts'.\n",
      "    dview.scatter('darts',np.arange(nd))\n",
      "    dview.execute('y = helper(darts)')\n",
      "    number_of_darts_in_circle = np.sum(dview.gather('y').get())\n",
      "    end_time = time()\n",
      "    execution_time = end_time - start_time\n",
      "    \n",
      "    number_of_darts = nd\n",
      "    pi_approx = 4 * number_of_darts_in_circle / float(number_of_darts)\n",
      "\n",
      "    print \"IPython cluster Dart Throwing Simulation\"\n",
      "    print \"Pi Approximation:\", pi_approx\n",
      "    print \"Number of Darts:\", number_of_darts\n",
      "    print \"Execution Time (s):\", execution_time\n",
      "    print \"Darts Thrown per Second:\", number_of_darts / execution_time"
     ],
     "language": "python",
     "metadata": {},
     "outputs": []
    },
    {
     "cell_type": "heading",
     "level": 3,
     "metadata": {},
     "source": [
      "Implementation 3: numexpr"
     ]
    },
    {
     "cell_type": "markdown",
     "metadata": {},
     "source": [
      "Unfortunately, the 'numexpr' sqrt function (or any other \"supported\" function like sin, cos, or abs) does not work on arrays or variables."
     ]
    },
    {
     "cell_type": "raw",
     "metadata": {},
     "source": [
      "E.G.\n",
      "In [9]: ne.evaluate('2**0.5')\n",
      "Out[9]: array(1.4142135623730951)\n",
      "\n",
      "In [10]: a = 2\n",
      "\n",
      "In [11]: ne.evaluate('a**0.5')\n",
      "MKL FATAL ERROR: can`t load libmkl_vml_avx.dylib.\n",
      "Victors-MacBook-Air-2:08_hw vlchen91$ "
     ]
    },
    {
     "cell_type": "markdown",
     "metadata": {},
     "source": [
      "'numexpr' also does not have user-friendly way to define user-created functions. Thus, what follows is a \"watered-down\" numexpr implementation of dart throwing. 'numexpr' will be used as much as possible to its largest extent. At the moment, only simple bitwise operations such as polynomial calculations are suitable for 'numexpr'.\n",
      "\n",
      "Fortunately, as we'll see, numexpr is still vastly faster than IPython parallel and Multiprocessing."
     ]
    },
    {
     "cell_type": "code",
     "collapsed": false,
     "input": [
      "import numpy as np\n",
      "import numpy.random\n",
      "import numexpr as ne\n",
      "ne.set_num_threads(4);"
     ],
     "language": "python",
     "metadata": {},
     "outputs": []
    },
    {
     "cell_type": "code",
     "collapsed": false,
     "input": [
      "def test_numexpr_dart_throwing(nd=200000):\n",
      "    \"\"\"'nd' is the number of darts.\"\"\"\n",
      "    \n",
      "    # Let us define a numpy version of a throw_dart helper function\n",
      "    def throw_dart():\n",
      "        ''' Throw \"n\" darts at a square of length 1.0, and return\n",
      "            how many times they landed in a concentric circle of radius\n",
      "            0.5.\n",
      "        '''\n",
      "        x = np.random.uniform(size = nd)\n",
      "        y = np.random.uniform(size = nd)\n",
      "        expr1 = ne.evaluate('(x - 0.5)**2 + (y - 0.5)**2')\n",
      "        radius = np.sqrt(expr1)\n",
      "        in_or_out = ne.evaluate('radius <= 0.5')\n",
      "        in_or_out = in_or_out.astype(np.int)\n",
      "        total_inside = ne.evaluate('sum(in_or_out)')\n",
      "        return total_inside\n",
      "    \n",
      "    number_of_darts_in_circle = 0\n",
      "    \n",
      "    # Record the simulation time\n",
      "    start_time = time()\n",
      "    number_of_darts_in_circle = throw_dart()\n",
      "    end_time = time()\n",
      "    execution_time = end_time - start_time\n",
      "    \n",
      "    number_of_darts = nd\n",
      "    pi_approx = 4 * number_of_darts_in_circle / float(number_of_darts)\n",
      "\n",
      "    print \"Numexpr Dart Throwing Simulation\"\n",
      "    print \"Pi Approximation:\", pi_approx\n",
      "    print \"Number of Darts:\", number_of_darts\n",
      "    print \"Execution Time (s):\", execution_time\n",
      "    print \"Darts Thrown per Second:\", number_of_darts / execution_time\n"
     ],
     "language": "python",
     "metadata": {},
     "outputs": []
    },
    {
     "cell_type": "heading",
     "level": 3,
     "metadata": {},
     "source": [
      "Testing all implementations"
     ]
    },
    {
     "cell_type": "markdown",
     "metadata": {},
     "source": [
      "See part 2 for the plot comparisons."
     ]
    },
    {
     "cell_type": "code",
     "collapsed": false,
     "input": [
      "test_serial_dart_throwing(nd=1600000)\n",
      "print\n",
      "test_multiprocessing_dart_throwing(nd=1600000)\n",
      "print\n",
      "test_ipcluster_dart_throwing(nd=1600000)\n",
      "print\n",
      "test_numexpr_dart_throwing(nd=1600000)"
     ],
     "language": "python",
     "metadata": {},
     "outputs": []
    }
   ],
   "metadata": {}
  }
 ]
}