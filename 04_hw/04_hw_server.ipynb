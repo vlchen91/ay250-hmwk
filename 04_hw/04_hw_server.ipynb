{
 "metadata": {
  "name": "04_hw_server"
 },
 "nbformat": 3,
 "nbformat_minor": 0,
 "worksheets": [
  {
   "cells": [
    {
     "cell_type": "markdown",
     "metadata": {},
     "source": [
      "Server side stuff"
     ]
    },
    {
     "cell_type": "code",
     "collapsed": false,
     "input": [
      "import SimpleXMLRPCServer\n",
      "class Image_Manipulation:\n",
      "    def grayscale(self, target_img):\n",
      "        \"\"\"\n",
      "        Create a separate monochrome channel and insert its luminosity values\n",
      "        into each color channel (R,G,B). If the image is already a monochrome\n",
      "        image with 1 channel, the argument image is returned instead.\n",
      "        \"\"\"\n",
      "        # Convert list to np array\n",
      "        img = np.array(target_img,dtype='float32')\n",
      "        ## Skip already grayscale images\n",
      "        if len(img.shape) == 2:\n",
      "            return target_img\n",
      "        # gray = 0.299*r + 0.587*g + 0.114*b\n",
      "        r,g,b = np.rollaxis(img,axis=-1)\n",
      "        gray = 0.299*r + 0.587*g + 0.114*b\n",
      "        img.T[:] = gray.T\n",
      "        # Return back as a Pythonic list\n",
      "        return img.tolist()\n",
      "    \n",
      "    def RGB2BRG(self, target_img):\n",
      "        \"\"\"\n",
      "        Switch Red->Blue, Green->Red, & Blue->Green. If the image has only 1\n",
      "        channel, the argument image is returned instead.\n",
      "        \"\"\"\n",
      "        # Convert list to np array\n",
      "        img = np.array(target_img,dtype='float32')\n",
      "        ## Skip if grayscale\n",
      "        if len(img.shape) == 2:\n",
      "            return target_img\n",
      "        # Switcharoo\n",
      "        r,g,b = np.rollaxis(img,axis=-1)\n",
      "        new_img = img.copy()\n",
      "        new_img[...,0] = b\n",
      "        new_img[...,1] = r\n",
      "        new_img[...,2] = g\n",
      "        # Return as a Pythonic list\n",
      "        return new_img.tolist()\n",
      "    \n",
      "    def invert(self, target_img):\n",
      "        \"\"\"\n",
      "        Invert the luminosity values for each channel. Since our images are\n",
      "        of float32 data type, float32's 1. corresponds to the uint8's 255\n",
      "        value.\n",
      "        \"\"\"\n",
      "        # Convert list to np array\n",
      "        img = np.array(target_img,dtype='float32')\n",
      "        img = 1. - img\n",
      "        return img.tolist()\n",
      "        \n",
      "host, port = \"\", 5021\n",
      "server = SimpleXMLRPCServer.SimpleXMLRPCServer((host, port), allow_none=True)\n",
      "server.register_instance(Image_Manipulation())\n",
      "server.register_multicall_functions()\n",
      "server.register_introspection_functions()\n",
      "print \"XMLRPC Server is starting at:\", host, port"
     ],
     "language": "python",
     "metadata": {},
     "outputs": [
      {
       "output_type": "stream",
       "stream": "stdout",
       "text": [
        "XMLRPC Server is starting at:  5021\n"
       ]
      }
     ],
     "prompt_number": 1
    },
    {
     "cell_type": "code",
     "collapsed": false,
     "input": [
      "server.serve_forever()"
     ],
     "language": "python",
     "metadata": {},
     "outputs": [
      {
       "output_type": "stream",
       "stream": "stderr",
       "text": [
        "1.0.0.127.in-addr.arpa - - [05/Oct/2012 17:01:40] \"POST /RPC2 HTTP/1.1\" 200 -\n",
        "1.0.0.127.in-addr.arpa - - [05/Oct/2012 17:01:41] \"POST /RPC2 HTTP/1.1\" 200 -\n"
       ]
      },
      {
       "output_type": "stream",
       "stream": "stderr",
       "text": [
        "1.0.0.127.in-addr.arpa - - [05/Oct/2012 17:03:29] \"POST /RPC2 HTTP/1.1\" 200 -\n",
        "1.0.0.127.in-addr.arpa - - [05/Oct/2012 17:03:29] \"POST /RPC2 HTTP/1.1\" 200 -\n"
       ]
      },
      {
       "output_type": "stream",
       "stream": "stderr",
       "text": [
        "1.0.0.127.in-addr.arpa - - [05/Oct/2012 17:03:40] \"POST /RPC2 HTTP/1.1\" 200 -\n",
        "1.0.0.127.in-addr.arpa - - [05/Oct/2012 17:03:57] \"POST /RPC2 HTTP/1.1\" 200 -\n"
       ]
      },
      {
       "output_type": "stream",
       "stream": "stderr",
       "text": [
        "1.0.0.127.in-addr.arpa - - [05/Oct/2012 17:04:14] \"POST /RPC2 HTTP/1.1\" 200 -\n",
        "1.0.0.127.in-addr.arpa - - [05/Oct/2012 17:04:56] \"POST /RPC2 HTTP/1.1\" 200 -\n"
       ]
      },
      {
       "output_type": "stream",
       "stream": "stderr",
       "text": [
        "1.0.0.127.in-addr.arpa - - [05/Oct/2012 17:04:56] \"POST /RPC2 HTTP/1.1\" 200 -\n",
        "1.0.0.127.in-addr.arpa - - [05/Oct/2012 17:05:06] \"POST /RPC2 HTTP/1.1\" 200 -\n"
       ]
      },
      {
       "output_type": "stream",
       "stream": "stderr",
       "text": [
        "1.0.0.127.in-addr.arpa - - [05/Oct/2012 17:05:23] \"POST /RPC2 HTTP/1.1\" 200 -\n",
        "1.0.0.127.in-addr.arpa - - [05/Oct/2012 17:05:40] \"POST /RPC2 HTTP/1.1\" 200 -\n"
       ]
      },
      {
       "output_type": "stream",
       "stream": "stderr",
       "text": [
        "1.0.0.127.in-addr.arpa - - [05/Oct/2012 17:07:58] \"POST /RPC2 HTTP/1.1\" 200 -\n",
        "1.0.0.127.in-addr.arpa - - [05/Oct/2012 17:07:59] \"POST /RPC2 HTTP/1.1\" 200 -\n"
       ]
      },
      {
       "output_type": "stream",
       "stream": "stderr",
       "text": [
        "1.0.0.127.in-addr.arpa - - [05/Oct/2012 17:08:09] \"POST /RPC2 HTTP/1.1\" 200 -\n",
        "1.0.0.127.in-addr.arpa - - [05/Oct/2012 17:08:29] \"POST /RPC2 HTTP/1.1\" 200 -\n"
       ]
      },
      {
       "output_type": "stream",
       "stream": "stderr",
       "text": [
        "1.0.0.127.in-addr.arpa - - [05/Oct/2012 17:08:47] \"POST /RPC2 HTTP/1.1\" 200 -\n",
        "1.0.0.127.in-addr.arpa - - [05/Oct/2012 17:20:12] \"POST /RPC2 HTTP/1.1\" 200 -\n"
       ]
      },
      {
       "output_type": "stream",
       "stream": "stderr",
       "text": [
        "1.0.0.127.in-addr.arpa - - [05/Oct/2012 17:20:13] \"POST /RPC2 HTTP/1.1\" 200 -\n",
        "1.0.0.127.in-addr.arpa - - [05/Oct/2012 17:20:23] \"POST /RPC2 HTTP/1.1\" 200 -\n"
       ]
      },
      {
       "output_type": "stream",
       "stream": "stderr",
       "text": [
        "1.0.0.127.in-addr.arpa - - [05/Oct/2012 17:20:43] \"POST /RPC2 HTTP/1.1\" 200 -\n",
        "1.0.0.127.in-addr.arpa - - [05/Oct/2012 17:21:05] \"POST /RPC2 HTTP/1.1\" 200 -\n"
       ]
      },
      {
       "output_type": "stream",
       "stream": "stderr",
       "text": [
        "1.0.0.127.in-addr.arpa - - [05/Oct/2012 17:22:41] \"POST /RPC2 HTTP/1.1\" 200 -\n",
        "1.0.0.127.in-addr.arpa - - [05/Oct/2012 17:22:42] \"POST /RPC2 HTTP/1.1\" 200 -\n"
       ]
      },
      {
       "output_type": "stream",
       "stream": "stderr",
       "text": [
        "1.0.0.127.in-addr.arpa - - [05/Oct/2012 17:22:55] \"POST /RPC2 HTTP/1.1\" 200 -\n",
        "1.0.0.127.in-addr.arpa - - [05/Oct/2012 17:23:13] \"POST /RPC2 HTTP/1.1\" 200 -\n"
       ]
      },
      {
       "ename": "KeyboardInterrupt",
       "evalue": "",
       "output_type": "pyerr",
       "traceback": [
        "\u001b[0;31m---------------------------------------------------------------------------\u001b[0m\n\u001b[0;31mKeyboardInterrupt\u001b[0m                         Traceback (most recent call last)",
        "\u001b[0;32m<ipython-input-2-30934a6743d8>\u001b[0m in \u001b[0;36m<module>\u001b[0;34m()\u001b[0m\n\u001b[0;32m----> 1\u001b[0;31m \u001b[0mserver\u001b[0m\u001b[0;34m.\u001b[0m\u001b[0mserve_forever\u001b[0m\u001b[0;34m(\u001b[0m\u001b[0;34m)\u001b[0m\u001b[0;34m\u001b[0m\u001b[0m\n\u001b[0m",
        "\u001b[0;32m/Library/Frameworks/Python.framework/Versions/7.3/lib/python2.7/SocketServer.pyc\u001b[0m in \u001b[0;36mserve_forever\u001b[0;34m(self, poll_interval)\u001b[0m\n\u001b[1;32m    223\u001b[0m                 \u001b[0;31m# polling. Polling reduces our responsiveness to a\u001b[0m\u001b[0;34m\u001b[0m\u001b[0;34m\u001b[0m\u001b[0m\n\u001b[1;32m    224\u001b[0m                 \u001b[0;31m# shutdown request and wastes cpu at all other times.\u001b[0m\u001b[0;34m\u001b[0m\u001b[0;34m\u001b[0m\u001b[0m\n\u001b[0;32m--> 225\u001b[0;31m                 \u001b[0mr\u001b[0m\u001b[0;34m,\u001b[0m \u001b[0mw\u001b[0m\u001b[0;34m,\u001b[0m \u001b[0me\u001b[0m \u001b[0;34m=\u001b[0m \u001b[0mselect\u001b[0m\u001b[0;34m.\u001b[0m\u001b[0mselect\u001b[0m\u001b[0;34m(\u001b[0m\u001b[0;34m[\u001b[0m\u001b[0mself\u001b[0m\u001b[0;34m]\u001b[0m\u001b[0;34m,\u001b[0m \u001b[0;34m[\u001b[0m\u001b[0;34m]\u001b[0m\u001b[0;34m,\u001b[0m \u001b[0;34m[\u001b[0m\u001b[0;34m]\u001b[0m\u001b[0;34m,\u001b[0m \u001b[0mpoll_interval\u001b[0m\u001b[0;34m)\u001b[0m\u001b[0;34m\u001b[0m\u001b[0m\n\u001b[0m\u001b[1;32m    226\u001b[0m                 \u001b[0;32mif\u001b[0m \u001b[0mself\u001b[0m \u001b[0;32min\u001b[0m \u001b[0mr\u001b[0m\u001b[0;34m:\u001b[0m\u001b[0;34m\u001b[0m\u001b[0m\n\u001b[1;32m    227\u001b[0m                     \u001b[0mself\u001b[0m\u001b[0;34m.\u001b[0m\u001b[0m_handle_request_noblock\u001b[0m\u001b[0;34m(\u001b[0m\u001b[0;34m)\u001b[0m\u001b[0;34m\u001b[0m\u001b[0m\n",
        "\u001b[0;31mKeyboardInterrupt\u001b[0m: "
       ]
      },
      {
       "output_type": "stream",
       "stream": "stderr",
       "text": [
        "1.0.0.127.in-addr.arpa - - [05/Oct/2012 17:23:34] \"POST /RPC2 HTTP/1.1\" 200 -\n"
       ]
      }
     ],
     "prompt_number": 2
    },
    {
     "cell_type": "code",
     "collapsed": false,
     "input": [],
     "language": "python",
     "metadata": {},
     "outputs": []
    }
   ],
   "metadata": {}
  }
 ]
}