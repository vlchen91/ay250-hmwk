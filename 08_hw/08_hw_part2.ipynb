{
 "metadata": {
  "name": "08_hw_part2"
 },
 "nbformat": 3,
 "nbformat_minor": 0,
 "worksheets": [
  {
   "cells": [
    {
     "cell_type": "code",
     "collapsed": false,
     "input": [
      "# Load all the simulation implementations\n",
      "%load serial_darts.py\n",
      "%load multiprocessing_darts.py\n",
      "%load ipcluster_darts.py\n",
      "%load numexpr_darts.py"
     ],
     "language": "python",
     "metadata": {},
     "outputs": []
    },
    {
     "cell_type": "code",
     "collapsed": false,
     "input": [
      "# Here, please insert the number of darts to simulate over.\n",
      "number_of_darts_lst = np.array([2e6,4e6,8e6,1.6e7,3.2e7]).astype(np.int)\n",
      "serial_results, multiprocessing_results = [], []\n",
      "ipcluster_results, numexpr_results = [], []\n",
      "\n",
      "# Here, please insert the number of cores on your machine.\n",
      "number_of_processors = 4\n",
      "\n",
      "for number_of_darts in number_of_darts_lst:\n",
      "    serial_results.append(serial_darts(number_of_darts))\n",
      "    multiprocessing_results.append(multiprocessing_darts(nd=number_of_darts,\n",
      "        nprocs=number_of_processors))\n",
      "    ipcluster_results.append(ipcluster_darts(nd=number_of_darts))\n",
      "    numexpr_results.append(numexpr_darts(nd=number_of_darts,\n",
      "        nprocs=number_of_processors))"
     ],
     "language": "python",
     "metadata": {},
     "outputs": []
    },
    {
     "cell_type": "code",
     "collapsed": false,
     "input": [
      "serial_execution_times = map(lambda x: x[1], serial_results)\n",
      "serial_simulation_rates = map(lambda x: x[2], serial_results)\n",
      "multiprocessing_execution_times = map(lambda x: x[1], multiprocessing_results)\n",
      "multiprocessing_simulation_rates = map(lambda x: x[2], multiprocessing_results)\n",
      "ipcluster_execution_times = map(lambda x: x[1], ipcluster_results)\n",
      "ipcluster_simulation_rates = map(lambda x: x[2], ipcluster_results)\n",
      "numexpr_execution_times = map(lambda x: x[1], numexpr_results)\n",
      "numexpr_simulation_rates = map(lambda x: x[2], numexpr_results)"
     ],
     "language": "python",
     "metadata": {},
     "outputs": []
    },
    {
     "cell_type": "code",
     "collapsed": false,
     "input": [
      "nod_lst = number_of_darts_lst"
     ],
     "language": "python",
     "metadata": {},
     "outputs": []
    },
    {
     "cell_type": "code",
     "collapsed": false,
     "input": [
      "figure(figsize=(12,9))\n",
      "ax0 = plt.gca()\n",
      "ax0.set_xscale('log')\n",
      "ax0.set_yscale('log')\n",
      "plot1a = ax0.plot(nod_lst,serial_execution_times,\n",
      "    color='m', label=\"Serial\")\n",
      "\n",
      "plot2a = ax0.plot(nod_lst,multiprocessing_execution_times,\n",
      "    color='g', label='Multiprocessing')\n",
      "\n",
      "plot3a = ax0.plot(nod_lst,ipcluster_execution_times,\n",
      "    color='y', label='IP Cluster')\n",
      "\n",
      "plot4a = ax0.plot(nod_lst,numexpr_execution_times,\n",
      "    color='c', label='Numexpr')\n",
      "\n",
      "ax1 = ax0.twinx()\n",
      "plot1b = ax1.plot(nod_lst,serial_simulation_rates,\n",
      "    color='m', label='Serial', linestyle='dashed')\n",
      "\n",
      "plot2b = ax1.plot(nod_lst,multiprocessing_simulation_rates,\n",
      "    color='g', label='Multiprocessing', linestyle='dashed')\n",
      "\n",
      "plot3b = ax1.plot(nod_lst,ipcluster_simulation_rates,\n",
      "    color='y', label='IP Cluster', linestyle='dashed')\n",
      "\n",
      "plot4b = ax1.plot(nod_lst,numexpr_simulation_rates,\n",
      "    color='c', label='Numexpr', linestyle='dashed')\n",
      "\n",
      "ax0.set_xlim(1.9e6,3.3e7)\n",
      "plt.title(\"Comparison of Parallel Computing Execution Times\")\n",
      "ax0.set_ylabel('Log(Execution Time (Seconds)), solid line')\n",
      "ax0.set_xlabel('Log(Number of Darts Thrown)')\n",
      "ax1.set_ylabel(\"Simulation Rate (Darts/Second), dashed line\")\n",
      "\n",
      "plots = plot1a + plot2a + plot3a + plot4a\n",
      "labs = [p.get_label() for p in plots]\n",
      "l = ax0.legend(plots,labs,loc='best')"
     ],
     "language": "python",
     "metadata": {},
     "outputs": []
    }
   ],
   "metadata": {}
  }
 ]
}